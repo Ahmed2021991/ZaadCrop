{
 "cells": [
  {
   "cell_type": "code",
   "execution_count": 1,
   "id": "1d600e8c-b5a7-4f0d-a30b-f5a2e3bc33b2",
   "metadata": {
    "tags": []
   },
   "outputs": [],
   "source": [
    "import requests"
   ]
  },
  {
   "cell_type": "code",
   "execution_count": 2,
   "id": "11521a70-19bf-4e5a-8731-148b5f49da72",
   "metadata": {
    "tags": []
   },
   "outputs": [
    {
     "name": "stdout",
     "output_type": "stream",
     "text": [
      "b'<!doctype html>\\n<head>\\n    <title>Hello Azure - Python Quickstart</title>\\n    <link rel=\"stylesheet\" href=\"/static/bootstrap/css/bootstrap.min.css\">\\n    <link rel=\"shortcut icon\" href=\"/static/favicon.ico\">\\n</head>\\n<html>\\n   <body>\\n     <main>\\n        <div class=\"px-4 py-3 my-2 text-center\">\\n            <img class=\"d-block mx-auto mb-4\" src=\"/static/images/azure-icon.svg\" alt=\"Azure Logo\" width=\"192\" height=\"192\"/>\\n            <!-- <img  src=\"/docs/5.1/assets/brand/bootstrap-logo.svg\" alt=\"\" width=\"72\" height=\"57\"> -->\\n            <h1 class=\"display-6 fw-bold text-primary\">Welcome to Azure</h1>            \\n          </div>\\n        <form method=\"post\" action=\"/hello\">\\n            <div class=\"col-md-6 mx-auto text-center\">\\n                <label for=\"name\" class=\"form-label fw-bold fs-5\">Could you please tell me your name?</label>\\n\\n                <!-- <p class=\"lead mb-2\">Could you please tell me your name?</p> -->\\n                <div class=\"d-grid gap-2 d-sm-flex justify-content-sm-center align-items-center my-1\">\\n                    <input type=\"text\" class=\"form-control\" id=\"name\" name=\"name\" style=\"max-width: 256px;\">\\n                  </div>            \\n                <div class=\"d-grid gap-2 d-sm-flex justify-content-sm-center my-2\">\\n                  <button type=\"submit\" class=\"btn btn-primary btn-lg px-4 gap-3\">Say Hello</button>\\n                </div>            \\n            </div>\\n        </form>\\n     </main>      \\n   </body>\\n</html>'\n"
     ]
    }
   ],
   "source": [
    "url = \"http://localhost:5601\"\n",
    "response = requests.get(url)\n",
    "\n",
    "print(response.content)"
   ]
  },
  {
   "cell_type": "code",
   "execution_count": 3,
   "id": "ca07754d-cd5c-4cdd-aacf-29478cb2d4c1",
   "metadata": {
    "tags": []
   },
   "outputs": [
    {
     "name": "stdout",
     "output_type": "stream",
     "text": [
      "b'<!doctype html>\\n<head>\\n    <title>Hello Azure - Python Quickstart</title>\\n    <link rel=\"stylesheet\" href=\"/static/bootstrap/css/bootstrap.min.css\">\\n    <link rel=\"shortcut icon\" href=\"/static/favicon.ico\">\\n</head>\\n<html>\\n   <body>\\n     <main>\\n        <div class=\"px-4 py-3 my-2 text-center\">\\n            <img class=\"d-block mx-auto mb-4\" src=\"/static/images/azure-icon.svg\" alt=\"Azure Logo\" width=\"192\" height=\"192\"/>\\n            <!-- <img  src=\"/docs/5.1/assets/brand/bootstrap-logo.svg\" alt=\"\" width=\"72\" height=\"57\"> -->\\n            <h1 class=\"display-6 fw-bold text-primary\">Welcome to Azure</h1>            \\n          </div>\\n        <form method=\"post\" action=\"/hello\">\\n            <div class=\"col-md-6 mx-auto text-center\">\\n                <label for=\"name\" class=\"form-label fw-bold fs-5\">Could you please tell me your name?</label>\\n\\n                <!-- <p class=\"lead mb-2\">Could you please tell me your name?</p> -->\\n                <div class=\"d-grid gap-2 d-sm-flex justify-content-sm-center align-items-center my-1\">\\n                    <input type=\"text\" class=\"form-control\" id=\"name\" name=\"name\" style=\"max-width: 256px;\">\\n                  </div>            \\n                <div class=\"d-grid gap-2 d-sm-flex justify-content-sm-center my-2\">\\n                  <button type=\"submit\" class=\"btn btn-primary btn-lg px-4 gap-3\">Say Hello</button>\\n                </div>            \\n            </div>\\n        </form>\\n     </main>      \\n   </body>\\n</html>'\n"
     ]
    }
   ],
   "source": [
    "url = \"http://localhost:5601\"\n",
    "params = {'name': 'Prerit'}\n",
    "response = requests.get(url, params=params)\n",
    "\n",
    "print(response.content)"
   ]
  },
  {
   "cell_type": "code",
   "execution_count": 4,
   "id": "eefd5dd3-e768-4709-b623-434ce5851d87",
   "metadata": {
    "tags": []
   },
   "outputs": [
    {
     "name": "stdout",
     "output_type": "stream",
     "text": [
      "b'The Prime Minister of India in 2024 is Narendra Modi.'\n"
     ]
    }
   ],
   "source": [
    "url = \"http://localhost:5601/query\"\n",
    "\n",
    "params = {'text': 'who is prime minister of India in 2024?'}\n",
    "response = requests.get(url, params=params)\n",
    "\n",
    "print(response.content)"
   ]
  },
  {
   "cell_type": "code",
   "execution_count": 5,
   "id": "debff1c7-9a95-4345-bf7e-b2193bf3627b",
   "metadata": {},
   "outputs": [
    {
     "name": "stdout",
     "output_type": "stream",
     "text": [
      "b'SR Tendulkar (IND)'\n"
     ]
    }
   ],
   "source": [
    "url = \"http://localhost:5601/query\"\n",
    "\n",
    "params = {'text': 'who scored highest runs?'}\n",
    "response = requests.get(url, params=params)\n",
    "\n",
    "print(response.content)"
   ]
  },
  {
   "cell_type": "code",
   "execution_count": 8,
   "id": "9d7ba536-bb4a-44f9-9e2b-e75e083af611",
   "metadata": {
    "tags": []
   },
   "outputs": [
    {
     "name": "stdout",
     "output_type": "stream",
     "text": [
      "b'AN Cook (ENG)'\n"
     ]
    }
   ],
   "source": [
    "url = \"http://localhost:5601/query\"\n",
    "\n",
    "params = {'text': 'who scored most runs for England?'}\n",
    "response = requests.get(url, params=params)\n",
    "\n",
    "print(response.content)"
   ]
  },
  {
   "cell_type": "code",
   "execution_count": null,
   "id": "132f36b1-b0a6-4fd1-b9b2-dccb28905769",
   "metadata": {},
   "outputs": [],
   "source": []
  }
 ],
 "metadata": {
  "kernelspec": {
   "display_name": "Python 3",
   "language": "python",
   "name": "python3"
  },
  "language_info": {
   "codemirror_mode": {
    "name": "ipython",
    "version": 3
   },
   "file_extension": ".py",
   "mimetype": "text/x-python",
   "name": "python",
   "nbconvert_exporter": "python",
   "pygments_lexer": "ipython3",
   "version": "3.8.10"
  }
 },
 "nbformat": 4,
 "nbformat_minor": 5
}
